{
 "cells": [
  {
   "cell_type": "code",
   "execution_count": 13,
   "metadata": {},
   "outputs": [],
   "source": [
    "import os\n",
    "from pathlib import Path\n",
    "import logging\n",
    "import itertools\n",
    "\n",
    "import pandas as pd\n",
    "import numpy as np\n",
    "import matplotlib\n",
    "import matplotlib.pyplot as plt\n",
    "import seaborn as sns\n",
    "\n",
    "import nltk\n",
    "from nltk.tokenize import word_tokenize\n",
    "from nltk.stem import WordNetLemmatizer\n",
    "from sklearn.feature_extraction.text import CountVectorizer\n",
    "\n",
    "from sentiment_analysis.config import SentimentAnalysisConfig\n",
    "from sentiment_analysis.data_access import DataClass\n",
    "from sentiment_analysis.utils.constants import (\n",
    "    TEXT,\n",
    "    TARGET,\n",
    "    ORIGINAL_TEXT,\n",
    "    SPLIT,\n",
    "    DEVELOP,\n",
    "    TEST\n",
    ")\n",
    "\n",
    "sns.set_style(\"darkgrid\")\n",
    "sns.set_color_codes(\"muted\")\n",
    "matplotlib.rcParams['font.family'] = \"serif\"\n",
    "PARENT_PATH = Path(os.getcwd()).parent.absolute()\n",
    "FORMAT = \"%(asctime)s - %(name)s - %(levelname)s - %(message)s\"\n",
    "logging.basicConfig(format=FORMAT, level=logging.INFO)"
   ]
  },
  {
   "cell_type": "code",
   "execution_count": 2,
   "metadata": {},
   "outputs": [
    {
     "data": {
      "text/html": [
       "<div>\n",
       "<style scoped>\n",
       "    .dataframe tbody tr th:only-of-type {\n",
       "        vertical-align: middle;\n",
       "    }\n",
       "\n",
       "    .dataframe tbody tr th {\n",
       "        vertical-align: top;\n",
       "    }\n",
       "\n",
       "    .dataframe thead th {\n",
       "        text-align: right;\n",
       "    }\n",
       "</style>\n",
       "<table border=\"1\" class=\"dataframe\">\n",
       "  <thead>\n",
       "    <tr style=\"text-align: right;\">\n",
       "      <th></th>\n",
       "      <th>review</th>\n",
       "      <th>sentiment</th>\n",
       "      <th>Split</th>\n",
       "    </tr>\n",
       "  </thead>\n",
       "  <tbody>\n",
       "    <tr>\n",
       "      <th>0</th>\n",
       "      <td>how can a director that makes such great films...</td>\n",
       "      <td>neg</td>\n",
       "      <td>train</td>\n",
       "    </tr>\n",
       "    <tr>\n",
       "      <th>1</th>\n",
       "      <td>This is one of the worst film adaptations of a...</td>\n",
       "      <td>neg</td>\n",
       "      <td>train</td>\n",
       "    </tr>\n",
       "    <tr>\n",
       "      <th>2</th>\n",
       "      <td>This is an art film that was either made in 19...</td>\n",
       "      <td>neg</td>\n",
       "      <td>train</td>\n",
       "    </tr>\n",
       "    <tr>\n",
       "      <th>3</th>\n",
       "      <td>For two of the funniest comedians, the movie w...</td>\n",
       "      <td>neg</td>\n",
       "      <td>train</td>\n",
       "    </tr>\n",
       "    <tr>\n",
       "      <th>4</th>\n",
       "      <td>Doris Day never lets a bad script get her down...</td>\n",
       "      <td>neg</td>\n",
       "      <td>train</td>\n",
       "    </tr>\n",
       "    <tr>\n",
       "      <th>5</th>\n",
       "      <td>Unwatchable. You can't even make it past the f...</td>\n",
       "      <td>neg</td>\n",
       "      <td>train</td>\n",
       "    </tr>\n",
       "    <tr>\n",
       "      <th>6</th>\n",
       "      <td>Quite average even by Monogram standards, this...</td>\n",
       "      <td>neg</td>\n",
       "      <td>train</td>\n",
       "    </tr>\n",
       "    <tr>\n",
       "      <th>7</th>\n",
       "      <td>This is not a good movie. Too preachy in parts...</td>\n",
       "      <td>neg</td>\n",
       "      <td>train</td>\n",
       "    </tr>\n",
       "    <tr>\n",
       "      <th>8</th>\n",
       "      <td>I am really shocked that a great director like...</td>\n",
       "      <td>neg</td>\n",
       "      <td>train</td>\n",
       "    </tr>\n",
       "    <tr>\n",
       "      <th>9</th>\n",
       "      <td>This is one of the weakest soft porn film arou...</td>\n",
       "      <td>neg</td>\n",
       "      <td>train</td>\n",
       "    </tr>\n",
       "  </tbody>\n",
       "</table>\n",
       "</div>"
      ],
      "text/plain": [
       "                                              review sentiment  Split\n",
       "0  how can a director that makes such great films...       neg  train\n",
       "1  This is one of the worst film adaptations of a...       neg  train\n",
       "2  This is an art film that was either made in 19...       neg  train\n",
       "3  For two of the funniest comedians, the movie w...       neg  train\n",
       "4  Doris Day never lets a bad script get her down...       neg  train\n",
       "5  Unwatchable. You can't even make it past the f...       neg  train\n",
       "6  Quite average even by Monogram standards, this...       neg  train\n",
       "7  This is not a good movie. Too preachy in parts...       neg  train\n",
       "8  I am really shocked that a great director like...       neg  train\n",
       "9  This is one of the weakest soft porn film arou...       neg  train"
      ]
     },
     "execution_count": 2,
     "metadata": {},
     "output_type": "execute_result"
    }
   ],
   "source": [
    "config = SentimentAnalysisConfig()\n",
    "config.CURRENT_PATH = PARENT_PATH\n",
    "\n",
    "data = DataClass(config)\n",
    "df = data.build()\n",
    "df.head(10)"
   ]
  },
  {
   "cell_type": "markdown",
   "metadata": {},
   "source": [
    "Check for missing pattern"
   ]
  },
  {
   "cell_type": "code",
   "execution_count": 3,
   "metadata": {},
   "outputs": [
    {
     "data": {
      "text/plain": [
       "review       0\n",
       "sentiment    0\n",
       "Split        0\n",
       "dtype: int64"
      ]
     },
     "execution_count": 3,
     "metadata": {},
     "output_type": "execute_result"
    }
   ],
   "source": [
    "df.isna().sum()"
   ]
  },
  {
   "cell_type": "code",
   "execution_count": 4,
   "metadata": {},
   "outputs": [
    {
     "name": "stdout",
     "output_type": "stream",
     "text": [
      "Number of rows: 50,000\n",
      "Number of positive reviews: 25,000\n",
      "Number of positive reviews: 25,000\n"
     ]
    }
   ],
   "source": [
    "print(f\"Number of rows: {df.shape[0]:,}\")\n",
    "print(f\"Number of positive reviews: {sum(df[TARGET] == 'pos'):,}\")\n",
    "print(f\"Number of positive reviews: {sum(df[TARGET] == 'neg'):,}\")"
   ]
  },
  {
   "cell_type": "code",
   "execution_count": 5,
   "metadata": {},
   "outputs": [
    {
     "data": {
      "image/png": "[encoded data removed]",
      "text/plain": [
       "<Figure size 600x400 with 1 Axes>"
      ]
     },
     "metadata": {},
     "output_type": "display_data"
    }
   ],
   "source": [
    "fig, ax = plt.subplots(1, 1, figsize=(6,4), constrained_layout=True)\n",
    "sns.countplot(data=df, x=TARGET, ax=ax, color=\"b\")\n",
    "ax.set_xlabel(\"Sentiment\")\n",
    "ax.set_ylabel(\"#\");"
   ]
  },
  {
   "cell_type": "markdown",
   "metadata": {},
   "source": [
    "Clean reviews before analyzing tokens"
   ]
  },
  {
   "cell_type": "code",
   "execution_count": 6,
   "metadata": {},
   "outputs": [],
   "source": [
    "TOKENS = \"tokens\"\n",
    "LENGTH = \"Text Length\"\n",
    "\n",
    "def clean(df: pd.DataFrame):\n",
    "    stop_words = nltk.corpus.stopwords.words('english')\n",
    "    lemmatizer = WordNetLemmatizer()\n",
    "    df = df.copy()\n",
    "    df.reset_index(drop=True, inplace=True)\n",
    "    # Save original text\n",
    "    df[ORIGINAL_TEXT] = df[TEXT]\n",
    "    # Convert to lower\n",
    "    df[TEXT] = df[TEXT].str.lower()\n",
    "    # Remove URLs\n",
    "    df[TEXT] = df[TEXT].str.replace(r\"http\\S+|www.\\S+\", \"\", regex=True)\n",
    "    # Remove HTML\n",
    "    df[TEXT] = df[TEXT].str.replace(\"<[^<]+?>\", \" \", regex=True)\n",
    "    # Remove symbols\n",
    "    df[TEXT] = df[TEXT].str.replace(r\"[/(){}\\[\\]\\|@,;\\-]\", \" \", regex=True)\n",
    "    # Remove punctuation\n",
    "    df[TEXT] = df[TEXT].str.replace(r\"[^\\w\\s]\", \"\", regex=True)\n",
    "    # Tokenize\n",
    "    df[TOKENS] = df[TEXT].apply(lambda x: word_tokenize(x))\n",
    "    # Remove stopwords\n",
    "    df[TOKENS] = df[TOKENS].apply(lambda x: [word for word in x if word not in stop_words])\n",
    "    # Lemmatize\n",
    "    df[TOKENS] = df[TOKENS].apply(lambda x: [lemmatizer.lemmatize(word) for word in x])\n",
    "    # Length of cleaned text\n",
    "    df[LENGTH] = df[TOKENS].apply(lambda x: len(x))\n",
    "    # Join and return\n",
    "    df[TEXT] = df[TOKENS].apply(lambda x: \" \".join(x))\n",
    "    return df\n"
   ]
  },
  {
   "cell_type": "code",
   "execution_count": 7,
   "metadata": {},
   "outputs": [
    {
     "data": {
      "text/html": [
       "<div>\n",
       "<style scoped>\n",
       "    .dataframe tbody tr th:only-of-type {\n",
       "        vertical-align: middle;\n",
       "    }\n",
       "\n",
       "    .dataframe tbody tr th {\n",
       "        vertical-align: top;\n",
       "    }\n",
       "\n",
       "    .dataframe thead th {\n",
       "        text-align: right;\n",
       "    }\n",
       "</style>\n",
       "<table border=\"1\" class=\"dataframe\">\n",
       "  <thead>\n",
       "    <tr style=\"text-align: right;\">\n",
       "      <th></th>\n",
       "      <th>review</th>\n",
       "      <th>sentiment</th>\n",
       "      <th>Split</th>\n",
       "      <th>Original Text</th>\n",
       "      <th>tokens</th>\n",
       "      <th>Text Length</th>\n",
       "    </tr>\n",
       "  </thead>\n",
       "  <tbody>\n",
       "    <tr>\n",
       "      <th>0</th>\n",
       "      <td>director make great film poltergeist texas cha...</td>\n",
       "      <td>neg</td>\n",
       "      <td>train</td>\n",
       "      <td>how can a director that makes such great films...</td>\n",
       "      <td>[director, make, great, film, poltergeist, tex...</td>\n",
       "      <td>23</td>\n",
       "    </tr>\n",
       "    <tr>\n",
       "      <th>1</th>\n",
       "      <td>one worst film adaptation musical ever made st...</td>\n",
       "      <td>neg</td>\n",
       "      <td>train</td>\n",
       "      <td>This is one of the worst film adaptations of a...</td>\n",
       "      <td>[one, worst, film, adaptation, musical, ever, ...</td>\n",
       "      <td>72</td>\n",
       "    </tr>\n",
       "    <tr>\n",
       "      <th>2</th>\n",
       "      <td>art film either made 1969 1972 national film p...</td>\n",
       "      <td>neg</td>\n",
       "      <td>train</td>\n",
       "      <td>This is an art film that was either made in 19...</td>\n",
       "      <td>[art, film, either, made, 1969, 1972, national...</td>\n",
       "      <td>89</td>\n",
       "    </tr>\n",
       "    <tr>\n",
       "      <th>3</th>\n",
       "      <td>two funniest comedian movie awful fast forward...</td>\n",
       "      <td>neg</td>\n",
       "      <td>train</td>\n",
       "      <td>For two of the funniest comedians, the movie w...</td>\n",
       "      <td>[two, funniest, comedian, movie, awful, fast, ...</td>\n",
       "      <td>69</td>\n",
       "    </tr>\n",
       "    <tr>\n",
       "      <th>4</th>\n",
       "      <td>doris day never let bad script get even trying...</td>\n",
       "      <td>neg</td>\n",
       "      <td>train</td>\n",
       "      <td>Doris Day never lets a bad script get her down...</td>\n",
       "      <td>[doris, day, never, let, bad, script, get, eve...</td>\n",
       "      <td>94</td>\n",
       "    </tr>\n",
       "  </tbody>\n",
       "</table>\n",
       "</div>"
      ],
      "text/plain": [
       "                                              review sentiment  Split  \\\n",
       "0  director make great film poltergeist texas cha...       neg  train   \n",
       "1  one worst film adaptation musical ever made st...       neg  train   \n",
       "2  art film either made 1969 1972 national film p...       neg  train   \n",
       "3  two funniest comedian movie awful fast forward...       neg  train   \n",
       "4  doris day never let bad script get even trying...       neg  train   \n",
       "\n",
       "                                       Original Text  \\\n",
       "0  how can a director that makes such great films...   \n",
       "1  This is one of the worst film adaptations of a...   \n",
       "2  This is an art film that was either made in 19...   \n",
       "3  For two of the funniest comedians, the movie w...   \n",
       "4  Doris Day never lets a bad script get her down...   \n",
       "\n",
       "                                              tokens  Text Length  \n",
       "0  [director, make, great, film, poltergeist, tex...           23  \n",
       "1  [one, worst, film, adaptation, musical, ever, ...           72  \n",
       "2  [art, film, either, made, 1969, 1972, national...           89  \n",
       "3  [two, funniest, comedian, movie, awful, fast, ...           69  \n",
       "4  [doris, day, never, let, bad, script, get, eve...           94  "
      ]
     },
     "execution_count": 7,
     "metadata": {},
     "output_type": "execute_result"
    }
   ],
   "source": [
    "df = clean(df)\n",
    "df.head()"
   ]
  },
  {
   "cell_type": "markdown",
   "metadata": {},
   "source": [
    "Tokenize (using NLTK) and calculate text length\n",
    "\n",
    "Note: Length depends on tokenizer, it will be different for bert tokenizer"
   ]
  },
  {
   "cell_type": "code",
   "execution_count": 8,
   "metadata": {},
   "outputs": [
    {
     "data": {
      "image/png": "[encoded data removed]",
      "text/plain": [
       "<Figure size 600x400 with 1 Axes>"
      ]
     },
     "metadata": {},
     "output_type": "display_data"
    }
   ],
   "source": [
    "fig, ax = plt.subplots(1, 1, figsize=(6,4), constrained_layout=True)\n",
    "sns.kdeplot(data=df, x=LENGTH, hue=TARGET, ax=ax)\n",
    "ax.set_xlabel(\"Text length\")\n",
    "ax.set_ylabel(\"Density\")\n",
    "ax.set_title(f\"Text length distribution by {TARGET}\")\n",
    "ax.set_xlim(0, 800)\n",
    "plt.show();"
   ]
  },
  {
   "cell_type": "code",
   "execution_count": 9,
   "metadata": {},
   "outputs": [
    {
     "data": {
      "image/png": "[encoded data removed]",
      "text/plain": [
       "<Figure size 600x400 with 1 Axes>"
      ]
     },
     "metadata": {},
     "output_type": "display_data"
    }
   ],
   "source": [
    "fig, ax = plt.subplots(1, 1, figsize=(6,4), constrained_layout=True)\n",
    "sns.boxplot(data=df, x=LENGTH, y=TARGET, ax=ax)\n",
    "ax.set_xlabel(\"Text length\")\n",
    "ax.set_ylabel(\"Sentiment\")\n",
    "ax.set_title(f\"Text length distribution by {TARGET}\")\n",
    "ax.set_xlim(0, 800)\n",
    "plt.show();"
   ]
  },
  {
   "cell_type": "markdown",
   "metadata": {},
   "source": [
    "We see that both positive and negative sentiments have the same distribution for text-length, which is right-skewed, with mean at around 130 and mode at 70"
   ]
  },
  {
   "cell_type": "markdown",
   "metadata": {},
   "source": [
    "N-Gram Analysis"
   ]
  },
  {
   "cell_type": "code",
   "execution_count": 14,
   "metadata": {},
   "outputs": [],
   "source": [
    "# Utility function to generate n-grams\n",
    "def topK_ngrams(corpus: pd.Series, n: int, K: int):\n",
    "    vectorizer = CountVectorizer(ngram_range=(n, n), analyzer=\"word\")\n",
    "    sparse_matrix = vectorizer.fit_transform(corpus)\n",
    "    frequencies = sum(sparse_matrix).toarray()[0]\n",
    "    frequencies = sorted(\n",
    "        zip(frequencies, vectorizer.get_feature_names_out()),\n",
    "        key=lambda x: x[0],\n",
    "        reverse=True\n",
    "    )\n",
    "    frequencies = frequencies[:K]\n",
    "    counts, ngrams = map(list, zip(*frequencies))\n",
    "    return ngrams, counts\n"
   ]
  },
  {
   "cell_type": "code",
   "execution_count": 18,
   "metadata": {},
   "outputs": [],
   "source": [
    "corpus = df[TEXT]\n",
    "fig, ax = plt.subplots(1, 3, figsize=(16, 6), constrained_layout=True)\n",
    "ngrams, counts = topK_ngrams(corpus, 1, 20)\n",
    "sns.barplot(x=counts, y=ngrams, color=\"b\", ax=ax[0])\n",
    "ngrams, counts = topK_ngrams(corpus, 2, 20)\n",
    "sns.barplot(x=counts, y=ngrams, color=\"b\", ax=ax[1])\n",
    "ngrams, counts = topK_ngrams(corpus, 3, 20)\n",
    "sns.barplot(x=counts, y=ngrams, color=\"b\", ax=ax[2])\n",
    "ax[0].set_xlabel(\"Counts\")\n",
    "ax[1].set_xlabel(\"Counts\")\n",
    "ax[2].set_xlabel(\"Counts\")\n",
    "ax[0].set_title(\"1-gram\")\n",
    "ax[1].set_title(\"2-grams\")\n",
    "ax[2].set_title(\"3-grams\")\n",
    "fig.suptitle(\"n-grams - Whole Corpus\")\n",
    "plt.show();"
   ]
  },
  {
   "cell_type": "code",
   "execution_count": null,
   "metadata": {},
   "outputs": [],
   "source": [
    "corpus = df[df[TARGET].isin([\"pos\"])][TEXT][:20]\n",
    "fig, ax = plt.subplots(2, 3, figsize=(16, 6), constrained_layout=True)\n",
    "ngrams, counts = topK_ngrams(corpus, 1, 20)\n",
    "sns.barplot(x=counts, y=ngrams, color=\"b\", ax=ax[0, 0])\n",
    "ngrams, counts = topK_ngrams(corpus, 2, 20)\n",
    "sns.barplot(x=counts, y=ngrams, color=\"b\", ax=ax[0, 1])\n",
    "ngrams, counts = topK_ngrams(corpus, 3, 20)\n",
    "sns.barplot(x=counts, y=ngrams, color=\"b\", ax=ax[0, 2])\n",
    "ax[0, 0].set_xlabel(\"Counts\")\n",
    "ax[0, 1].set_xlabel(\"Counts\")\n",
    "ax[0, 2].set_xlabel(\"Counts\")\n",
    "ax[0, 0].set_title(\"1-gram\")\n",
    "ax[0, 1].set_title(\"2-grams\")\n",
    "ax[0, 2].set_title(\"3-grams\")\n",
    "fig.suptitle(\"n-grams for Production Process Controls\")\n",
    "plt.show();"
   ]
  },
  {
   "cell_type": "code",
   "execution_count": null,
   "metadata": {},
   "outputs": [],
   "source": [
    "corpus = df[df[TARGET].isin([\"pos\"])][TEXT]\n",
    "fig, ax = plt.subplots(1, 3, figsize=(16, 6), constrained_layout=True)\n",
    "ngrams, counts = topK_ngrams(corpus, 1, 20)\n",
    "sns.barplot(x=counts, y=ngrams, color=\"b\", ax=ax[0])\n",
    "ngrams, counts = topK_ngrams(corpus, 2, 20)\n",
    "sns.barplot(x=counts, y=ngrams, color=\"b\", ax=ax[1])\n",
    "ngrams, counts = topK_ngrams(corpus, 3, 20)\n",
    "sns.barplot(x=counts, y=ngrams, color=\"b\", ax=ax[2])\n",
    "ax[0].set_xlabel(\"Counts\")\n",
    "ax[1].set_xlabel(\"Counts\")\n",
    "ax[2].set_xlabel(\"Counts\")\n",
    "ax[0].set_title(\"1-gram\")\n",
    "ax[1].set_title(\"2-grams\")\n",
    "ax[2].set_title(\"3-grams\")\n",
    "fig.suptitle(\"n-grams for Production Process Controls\")\n",
    "plt.show();"
   ]
  }
 ],
 "metadata": {
  "kernelspec": {
   "display_name": "Python 3.9.15 ('sentiment-analysis')",
   "language": "python",
   "name": "python3"
  },
  "language_info": {
   "codemirror_mode": {
    "name": "ipython",
    "version": 3
   },
   "file_extension": ".py",
   "mimetype": "text/x-python",
   "name": "python",
   "nbconvert_exporter": "python",
   "pygments_lexer": "ipython3",
   "version": "3.9.15"
  },
  "orig_nbformat": 4,
  "vscode": {
   "interpreter": {
    "hash": "4147dedb0d2f4fd7bd9f9daaae1bb896b5adcf74c54646418d2fdc1ab4f35694"
   }
  }
 },
 "nbformat": 4,
 "nbformat_minor": 2
}
