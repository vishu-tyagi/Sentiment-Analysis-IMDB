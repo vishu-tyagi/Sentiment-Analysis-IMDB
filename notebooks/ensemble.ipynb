{
 "cells": [
  {
   "cell_type": "code",
   "execution_count": 1,
   "metadata": {},
   "outputs": [],
   "source": [
    "import os\n",
    "from pathlib import Path\n",
    "import logging\n",
    "import itertools\n",
    "\n",
    "import pandas as pd\n",
    "import numpy as np\n",
    "\n",
    "from sentiment_analysis.config import SentimentAnalysisConfig\n",
    "from sentiment_analysis.data_access import DataClass\n",
    "from sentiment_analysis.features import Features\n",
    "from sentiment_analysis.evaluation import CustomEvaluation\n",
    "from sentiment_analysis.utils.constants import (\n",
    "    TEXT,\n",
    "    TARGET,\n",
    "    ORIGINAL_TEXT,\n",
    "    SPLIT,\n",
    "    TRAIN,\n",
    "    VALID,\n",
    "    TEST,\n",
    "    SAVED_MODELS,\n",
    "    PREDICTION\n",
    ")\n",
    "\n",
    "PARENT_PATH = Path(os.getcwd()).parent.absolute()\n",
    "FORMAT = \"%(asctime)s - %(name)s - %(levelname)s - %(message)s\"\n",
    "logging.basicConfig(format=FORMAT, level=logging.INFO)"
   ]
  },
  {
   "cell_type": "code",
   "execution_count": 2,
   "metadata": {},
   "outputs": [
    {
     "name": "stderr",
     "output_type": "stream",
     "text": [
      "2022-12-05 02:05:58,558 - sentiment_analysis.utils.utils - INFO - func:build took: 13.28 sec\n"
     ]
    },
    {
     "data": {
      "text/html": [
       "<div>\n",
       "<style scoped>\n",
       "    .dataframe tbody tr th:only-of-type {\n",
       "        vertical-align: middle;\n",
       "    }\n",
       "\n",
       "    .dataframe tbody tr th {\n",
       "        vertical-align: top;\n",
       "    }\n",
       "\n",
       "    .dataframe thead th {\n",
       "        text-align: right;\n",
       "    }\n",
       "</style>\n",
       "<table border=\"1\" class=\"dataframe\">\n",
       "  <thead>\n",
       "    <tr style=\"text-align: right;\">\n",
       "      <th></th>\n",
       "      <th>review</th>\n",
       "      <th>sentiment</th>\n",
       "      <th>Split</th>\n",
       "    </tr>\n",
       "  </thead>\n",
       "  <tbody>\n",
       "    <tr>\n",
       "      <th>0</th>\n",
       "      <td>Working with one of the best Shakespeare sourc...</td>\n",
       "      <td>neg</td>\n",
       "      <td>development</td>\n",
       "    </tr>\n",
       "    <tr>\n",
       "      <th>1</th>\n",
       "      <td>Well...tremors I, the original started off in ...</td>\n",
       "      <td>neg</td>\n",
       "      <td>development</td>\n",
       "    </tr>\n",
       "    <tr>\n",
       "      <th>2</th>\n",
       "      <td>Ouch! This one was a bit painful to sit throug...</td>\n",
       "      <td>neg</td>\n",
       "      <td>development</td>\n",
       "    </tr>\n",
       "    <tr>\n",
       "      <th>3</th>\n",
       "      <td>I've seen some crappy movies in my life, but t...</td>\n",
       "      <td>neg</td>\n",
       "      <td>development</td>\n",
       "    </tr>\n",
       "    <tr>\n",
       "      <th>4</th>\n",
       "      <td>\"Carriers\" follows the exploits of two guys an...</td>\n",
       "      <td>neg</td>\n",
       "      <td>development</td>\n",
       "    </tr>\n",
       "    <tr>\n",
       "      <th>5</th>\n",
       "      <td>I had been looking forward to seeing this film...</td>\n",
       "      <td>neg</td>\n",
       "      <td>development</td>\n",
       "    </tr>\n",
       "    <tr>\n",
       "      <th>6</th>\n",
       "      <td>Effect(s) without cause is generally not possi...</td>\n",
       "      <td>neg</td>\n",
       "      <td>development</td>\n",
       "    </tr>\n",
       "    <tr>\n",
       "      <th>7</th>\n",
       "      <td>This picture started out with good intentions,...</td>\n",
       "      <td>neg</td>\n",
       "      <td>development</td>\n",
       "    </tr>\n",
       "    <tr>\n",
       "      <th>8</th>\n",
       "      <td>I chose to see this movie because it got a goo...</td>\n",
       "      <td>neg</td>\n",
       "      <td>development</td>\n",
       "    </tr>\n",
       "    <tr>\n",
       "      <th>9</th>\n",
       "      <td>This film has to be the worst I have ever seen...</td>\n",
       "      <td>neg</td>\n",
       "      <td>development</td>\n",
       "    </tr>\n",
       "  </tbody>\n",
       "</table>\n",
       "</div>"
      ],
      "text/plain": [
       "                                              review sentiment        Split\n",
       "0  Working with one of the best Shakespeare sourc...       neg  development\n",
       "1  Well...tremors I, the original started off in ...       neg  development\n",
       "2  Ouch! This one was a bit painful to sit throug...       neg  development\n",
       "3  I've seen some crappy movies in my life, but t...       neg  development\n",
       "4  \"Carriers\" follows the exploits of two guys an...       neg  development\n",
       "5  I had been looking forward to seeing this film...       neg  development\n",
       "6  Effect(s) without cause is generally not possi...       neg  development\n",
       "7  This picture started out with good intentions,...       neg  development\n",
       "8  I chose to see this movie because it got a goo...       neg  development\n",
       "9  This film has to be the worst I have ever seen...       neg  development"
      ]
     },
     "execution_count": 2,
     "metadata": {},
     "output_type": "execute_result"
    }
   ],
   "source": [
    "config = SentimentAnalysisConfig()\n",
    "config.CURRENT_PATH = PARENT_PATH\n",
    "\n",
    "data = DataClass(config)\n",
    "df = data.build()\n",
    "df.head(10)"
   ]
  },
  {
   "cell_type": "code",
   "execution_count": 3,
   "metadata": {},
   "outputs": [
    {
     "name": "stderr",
     "output_type": "stream",
     "text": [
      "2022-12-05 02:07:27,382 - sentiment_analysis.utils.utils - INFO - func:clean took: 1 min and                 28.77 sec\n",
      "2022-12-05 02:07:54,097 - sentiment_analysis.utils.utils - INFO - func:fit took: 26.51 sec\n",
      "2022-12-05 02:08:20,028 - sentiment_analysis.utils.utils - INFO - func:transform took: 25.91 sec\n",
      "2022-12-05 02:08:20,039 - sentiment_analysis.utils.utils - INFO - func:fit_transform took: 52.45 sec\n",
      "2022-12-05 02:08:22,780 - sentiment_analysis.utils.utils - INFO - func:transform took: 2.71 sec\n",
      "2022-12-05 02:08:46,882 - sentiment_analysis.utils.utils - INFO - func:transform took: 24.10 sec\n",
      "2022-12-05 02:08:58,427 - sentiment_analysis.utils.utils - INFO - func:build took: 2 min and                 59.82 sec\n"
     ]
    }
   ],
   "source": [
    "features = Features()\n",
    "df_features = features.build(df)"
   ]
  },
  {
   "cell_type": "code",
   "execution_count": 4,
   "metadata": {},
   "outputs": [],
   "source": [
    "test = df_features[df_features[SPLIT].isin([TEST])]\n",
    "test.reset_index(drop=True, inplace=True)\n",
    "Y_test = test[TARGET]"
   ]
  },
  {
   "cell_type": "markdown",
   "metadata": {},
   "source": [
    "Load predictions"
   ]
  },
  {
   "cell_type": "code",
   "execution_count": 5,
   "metadata": {},
   "outputs": [],
   "source": [
    "xgboost = pd.read_pickle(os.path.join(data.reports_path, \"xgboost-prediction.pkl\"))\n",
    "bert = pd.read_pickle(os.path.join(data.reports_path, \"bert-prediction.pkl\"))\n",
    "roberta = pd.read_pickle(os.path.join(data.reports_path, \"roberta-prediction.pkl\"))\n",
    "\n",
    "xgboost.reset_index(drop=True, inplace=True)\n",
    "bert.reset_index(drop=True, inplace=True)\n",
    "roberta.reset_index(drop=True, inplace=True)"
   ]
  },
  {
   "cell_type": "markdown",
   "metadata": {},
   "source": [
    "Ensemble"
   ]
  },
  {
   "cell_type": "code",
   "execution_count": 9,
   "metadata": {},
   "outputs": [],
   "source": [
    "eval = CustomEvaluation()\n",
    "\n",
    "combined = (xgboost[PREDICTION] + bert[PREDICTION] + roberta[PREDICTION])\n",
    "pred = np.where(combined >= 2, 1, 0)"
   ]
  },
  {
   "cell_type": "code",
   "execution_count": 10,
   "metadata": {},
   "outputs": [
    {
     "data": {
      "text/plain": [
       "Accuracy     0.951640\n",
       "Precision    0.947097\n",
       "Recall       0.956720\n",
       "F1 Score     0.951884\n",
       "dtype: float64"
      ]
     },
     "execution_count": 10,
     "metadata": {},
     "output_type": "execute_result"
    }
   ],
   "source": [
    "eval.evaluate(y_true=Y_test.to_numpy(), y_pred=pred)"
   ]
  }
 ],
 "metadata": {
  "kernelspec": {
   "display_name": "Python 3 (ipykernel)",
   "language": "python",
   "name": "python3"
  },
  "language_info": {
   "codemirror_mode": {
    "name": "ipython",
    "version": 3
   },
   "file_extension": ".py",
   "mimetype": "text/x-python",
   "name": "python",
   "nbconvert_exporter": "python",
   "pygments_lexer": "ipython3",
   "version": "3.9.15"
  },
  "orig_nbformat": 4,
  "vscode": {
   "interpreter": {
    "hash": "4147dedb0d2f4fd7bd9f9daaae1bb896b5adcf74c54646418d2fdc1ab4f35694"
   }
  }
 },
 "nbformat": 4,
 "nbformat_minor": 2
}
